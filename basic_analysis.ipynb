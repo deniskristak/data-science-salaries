{
 "cells": [
  {
   "cell_type": "code",
   "execution_count": 6,
   "outputs": [],
   "source": [
    "import pandas as pd\n",
    "import scipy.stats as stats"
   ],
   "metadata": {
    "collapsed": false
   }
  },
  {
   "cell_type": "code",
   "execution_count": 7,
   "metadata": {
    "collapsed": true
   },
   "outputs": [
    {
     "data": {
      "text/plain": "   work_year experience_level employment_type                 job_title   \n0       2023               SE              FT  Principal Data Scientist  \\\n1       2023               MI              CT               ML Engineer   \n2       2023               MI              CT               ML Engineer   \n3       2023               SE              FT            Data Scientist   \n4       2023               SE              FT            Data Scientist   \n\n   salary salary_currency  salary_in_usd employee_residence  remote_ratio   \n0   80000             EUR          85847                 ES           100  \\\n1   30000             USD          30000                 US           100   \n2   25500             USD          25500                 US           100   \n3  175000             USD         175000                 CA           100   \n4  120000             USD         120000                 CA           100   \n\n  company_location company_size  \n0               ES            L  \n1               US            S  \n2               US            S  \n3               CA            M  \n4               CA            M  ",
      "text/html": "<div>\n<style scoped>\n    .dataframe tbody tr th:only-of-type {\n        vertical-align: middle;\n    }\n\n    .dataframe tbody tr th {\n        vertical-align: top;\n    }\n\n    .dataframe thead th {\n        text-align: right;\n    }\n</style>\n<table border=\"1\" class=\"dataframe\">\n  <thead>\n    <tr style=\"text-align: right;\">\n      <th></th>\n      <th>work_year</th>\n      <th>experience_level</th>\n      <th>employment_type</th>\n      <th>job_title</th>\n      <th>salary</th>\n      <th>salary_currency</th>\n      <th>salary_in_usd</th>\n      <th>employee_residence</th>\n      <th>remote_ratio</th>\n      <th>company_location</th>\n      <th>company_size</th>\n    </tr>\n  </thead>\n  <tbody>\n    <tr>\n      <th>0</th>\n      <td>2023</td>\n      <td>SE</td>\n      <td>FT</td>\n      <td>Principal Data Scientist</td>\n      <td>80000</td>\n      <td>EUR</td>\n      <td>85847</td>\n      <td>ES</td>\n      <td>100</td>\n      <td>ES</td>\n      <td>L</td>\n    </tr>\n    <tr>\n      <th>1</th>\n      <td>2023</td>\n      <td>MI</td>\n      <td>CT</td>\n      <td>ML Engineer</td>\n      <td>30000</td>\n      <td>USD</td>\n      <td>30000</td>\n      <td>US</td>\n      <td>100</td>\n      <td>US</td>\n      <td>S</td>\n    </tr>\n    <tr>\n      <th>2</th>\n      <td>2023</td>\n      <td>MI</td>\n      <td>CT</td>\n      <td>ML Engineer</td>\n      <td>25500</td>\n      <td>USD</td>\n      <td>25500</td>\n      <td>US</td>\n      <td>100</td>\n      <td>US</td>\n      <td>S</td>\n    </tr>\n    <tr>\n      <th>3</th>\n      <td>2023</td>\n      <td>SE</td>\n      <td>FT</td>\n      <td>Data Scientist</td>\n      <td>175000</td>\n      <td>USD</td>\n      <td>175000</td>\n      <td>CA</td>\n      <td>100</td>\n      <td>CA</td>\n      <td>M</td>\n    </tr>\n    <tr>\n      <th>4</th>\n      <td>2023</td>\n      <td>SE</td>\n      <td>FT</td>\n      <td>Data Scientist</td>\n      <td>120000</td>\n      <td>USD</td>\n      <td>120000</td>\n      <td>CA</td>\n      <td>100</td>\n      <td>CA</td>\n      <td>M</td>\n    </tr>\n  </tbody>\n</table>\n</div>"
     },
     "execution_count": 7,
     "metadata": {},
     "output_type": "execute_result"
    }
   ],
   "source": [
    "# let's import the CSV file first\n",
    "df = pd.read_csv('data/ds_salaries.csv')\n",
    "df.head()"
   ]
  },
  {
   "cell_type": "markdown",
   "source": [
    "### Basic tasks\n",
    "1. Throw away all the records where *employment_type* != *FT* (fulltime). This is to get rid of the obvious aspect - people who work more hours get paid more for the same job.\n",
    "2. Find **Mean**, **Median**, **Variance**, **Standard Deviation**, **Range**, **IQR**, **MAD** and of the *salary_in_usd* column.\n",
    "3. Draw a **boxplot** of the *salary_in_usd* column.\n",
    "4. Draw a **histogram** of the *salary_in_usd* column.\n",
    "5. Draw a **density plot** of the *salary_in_usd* column on top of a histogram.\n",
    "6. Find **modes** of the *experience_level*, *job_title*, *employee_residence*, *company_location*, *remote_ratio* and *company_size* columns.\n",
    "7. Draw **bar charts** of the *experience_level*, *job_title*, *employee_residence*, *company_location*, *remote_ratio* and *company_size* columns.\n",
    "8. Draw a **boxplot** of the *salary_in_usd* column grouped by the experience_level column.\n",
    "9. Draw a **boxplot** of the *salary_in_usd* column grouped by the *company_location* column.\n",
    "10. Draw a **boxplot** of the *salary_in_usd* column grouped by the *remote_ratio* column.\n",
    "11. Draw a **boxplot** of the *salary_in_usd* column grouped by the *company_size* column.\n",
    "\n",
    "### Even More Advanced tasks (a.k.a. let's dive deeper)\n",
    "12. In which jobs do people in the US have higher salaries for the same experience level and than people in the EU?\n",
    "13. Do people in larger companies have higher salaries for the same experience level and job title than people in smaller companies?\n",
    "14. What is the difference in salaries of people who work in the US but live elsewhere and people who work and live in the US?\n",
    "    - Hint: be careful about distribution of experience levels and job titles in the two groups\n",
    "15. Do people who work fully remotely (based on *remote_ratio*) have higher salaries for the same experience level and job title than people who work partially or not remote at all?\n",
    "16. Draw a map with the average salaries of data analysts in different states."
   ],
   "metadata": {
    "collapsed": false
   }
  },
  {
   "cell_type": "code",
   "execution_count": 11,
   "outputs": [],
   "source": [
    "# 1.\n",
    "df = df[df['employment_type'] == 'FT']"
   ],
   "metadata": {
    "collapsed": false
   }
  },
  {
   "cell_type": "code",
   "execution_count": 12,
   "outputs": [
    {
     "name": "stdout",
     "output_type": "stream",
     "text": [
      "Mean:  138314.1995696611\n",
      "Median:  135000.0\n",
      "Variance:  3900274488.640817\n",
      "Standard Deviation:  62452.177613281165\n",
      "Range:  444868\n",
      "IQR:  79476.0\n",
      "MAD:  40000.0\n"
     ]
    }
   ],
   "source": [
    "# 2.\n",
    "print('Mean: ', df['salary_in_usd'].mean())\n",
    "print('Median: ', df['salary_in_usd'].median())\n",
    "print('Variance: ', df['salary_in_usd'].var())\n",
    "print('Standard Deviation: ', df['salary_in_usd'].std())\n",
    "print('Range: ', df['salary_in_usd'].max() - df['salary_in_usd'].min())\n",
    "print('IQR: ', df['salary_in_usd'].quantile(0.75) - df['salary_in_usd'].quantile(0.25))\n",
    "print('MAD: ', stats.median_abs_deviation(df['salary_in_usd']))"
   ],
   "metadata": {
    "collapsed": false
   }
  },
  {
   "cell_type": "code",
   "execution_count": null,
   "outputs": [],
   "source": [],
   "metadata": {
    "collapsed": false
   }
  }
 ],
 "metadata": {
  "kernelspec": {
   "display_name": "Python 3",
   "language": "python",
   "name": "python3"
  },
  "language_info": {
   "codemirror_mode": {
    "name": "ipython",
    "version": 2
   },
   "file_extension": ".py",
   "mimetype": "text/x-python",
   "name": "python",
   "nbconvert_exporter": "python",
   "pygments_lexer": "ipython2",
   "version": "2.7.6"
  }
 },
 "nbformat": 4,
 "nbformat_minor": 0
}
